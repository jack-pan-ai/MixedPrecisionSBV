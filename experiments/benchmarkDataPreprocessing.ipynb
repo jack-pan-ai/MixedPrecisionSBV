{
 "cells": [
  {
   "cell_type": "code",
   "execution_count": null,
   "metadata": {},
   "outputs": [],
   "source": [
    "# download the dataset from https://bitbucket.org/gramacylab/tpm.git\n",
    "!git clone https://bitbucket.org/gramacylab/tpm.git\n",
    "!cp -r tpm/data/HST ../\n",
    "!rm -rf tpm"
   ]
  },
  {
   "cell_type": "code",
   "execution_count": null,
   "metadata": {},
   "outputs": [],
   "source": [
    "import pandas as pd\n",
    "import numpy as np\n",
    "from sklearn.model_selection import KFold\n",
    "from sklearn.preprocessing import MinMaxScaler\n",
    "import os \n",
    "\n",
    "# Combine He and He2 data\n",
    "he_data = pd.read_csv('../HST/hstHe.dat', header=0, sep='\\s+')\n",
    "he2_data = pd.read_csv('../HST/hstHe2.dat', header=0, sep='\\s+')\n",
    "\n",
    "# Concatenate the dataframes\n",
    "combined_he_data = pd.concat([he_data, he2_data], axis=0, ignore_index=True)\n",
    "\n",
    "# Save the combined data\n",
    "combined_he_data.to_csv('../HST/hstHe.dat', sep=' ', index=False)\n",
    "\n",
    "print(f\"Combined He data shape: {combined_he_data.shape}\")\n",
    "print(f\"Original He data shape: {he_data.shape}\")\n",
    "print(f\"Original He2 data shape: {he2_data.shape}\")\n"
   ]
  },
  {
   "cell_type": "code",
   "execution_count": null,
   "metadata": {},
   "outputs": [],
   "source": [
    "\n",
    "species = ['He', 'H', 'N', 'O', 'O2', 'N2'] \n",
    "for spec in species:\n",
    "    # Load the data with space separator, skipping the header\n",
    "    data = pd.read_csv(f'../HST/hst{spec}.dat', header=0, sep='\\s+')\n",
    "\n",
    "    # Separate features and target\n",
    "    X = data.iloc[:, :-1]  # All columns except the last one\n",
    "    y = data.iloc[:, -1]   # Last column\n",
    "\n",
    "    # Scale the features to [0,1]\n",
    "    scaler_X = MinMaxScaler()\n",
    "    X_scaled = scaler_X.fit_transform(X)\n",
    "    X_scaled = pd.DataFrame(X_scaled, columns=X.columns)\n",
    "\n",
    "    # Standardize the target variable to have mean=0 and variance=1\n",
    "    y_standardized = y\n",
    "    # y_standardized = (y - y.mean()) / y.std()\n",
    "\n",
    "    # Initialize 10-fold cross validation\n",
    "    kf = KFold(n_splits=10, shuffle=True, random_state=42)\n",
    "\n",
    "    # Create and save each fold\n",
    "    for fold, (train_idx, val_idx) in enumerate(kf.split(X_scaled), 1):\n",
    "        # Get the training and validation sets for this fold\n",
    "        X_train, X_val = X_scaled.iloc[train_idx], X_scaled.iloc[val_idx]\n",
    "        y_train, y_val = y_standardized.iloc[train_idx], y_standardized.iloc[val_idx]\n",
    "        \n",
    "        # Combine features and target\n",
    "        train_data = pd.concat([X_train, y_train], axis=1)\n",
    "        val_data = pd.concat([X_val, y_val], axis=1)\n",
    "        \n",
    "        # Save the fold data\n",
    "        os.makedirs(f'../HST/{spec}', exist_ok=True)\n",
    "        train_data.to_csv(f'../HST/{spec}/hst{spec}_fold{fold}_train.csv', index=False, header=False, sep=',')\n",
    "        val_data.to_csv(f'../HST/{spec}/hst{spec}_fold{fold}_val.csv', index=False, header=False, sep=',')\n",
    "        # Print sizes of train and validation sets\n",
    "        print(f\"\\n{spec} Fold {fold}:\")\n",
    "        print(f\"Training set size: {len(train_data)}\")\n",
    "        print(f\"Validation set size: {len(val_data)}\")"
   ]
  },
  {
   "cell_type": "code",
   "execution_count": null,
   "metadata": {},
   "outputs": [],
   "source": [
    "import pandas as pd\n",
    "\n",
    "species = ['He', 'H', 'N', 'O', 'O2', 'N2']\n",
    "# Calculate variance for each dataset\n",
    "for spec in species:\n",
    "    # Load the data\n",
    "    data = pd.read_csv(f'hst{spec}.dat', header=0, sep='\\s+')\n",
    "    \n",
    "    # Print total number of points\n",
    "    print(f\"\\nTotal number of points for {spec}: {len(data)}\")\n",
    "    \n",
    "    # Print variance information\n",
    "    print(f\"\\n{'='*50}\")\n",
    "    print(f\"Variance analysis for {spec}:\")\n",
    "    print(f\"{'='*50}\")\n",
    "    # print(\"\\nFeature variances:\")\n",
    "    # print(data.iloc[:, :-1].var())\n",
    "    print(f\"\\nTarget variance: {data.iloc[:, -1].var():.6f}\")"
   ]
  }
 ],
 "metadata": {
  "kernelspec": {
   "display_name": "base",
   "language": "python",
   "name": "python3"
  },
  "language_info": {
   "codemirror_mode": {
    "name": "ipython",
    "version": 3
   },
   "file_extension": ".py",
   "mimetype": "text/x-python",
   "name": "python",
   "nbconvert_exporter": "python",
   "pygments_lexer": "ipython3",
   "version": "3.10.9"
  }
 },
 "nbformat": 4,
 "nbformat_minor": 2
}
